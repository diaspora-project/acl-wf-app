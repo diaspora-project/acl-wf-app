{
 "cells": [
  {
   "metadata": {},
   "cell_type": "markdown",
   "source": "## Notebook for ACL workflow normality testing",
   "id": "48c7aef7b74210d1"
  },
  {
   "metadata": {},
   "cell_type": "markdown",
   "source": "### <span style='color:Blue ; background :yellow;'> Python Packages and workflow parameters </span>",
   "id": "d75894913937b1a0"
  },
  {
   "cell_type": "code",
   "id": "initial_id",
   "metadata": {
    "collapsed": true,
    "ExecuteTime": {
     "end_time": "2025-10-17T02:01:28.099668Z",
     "start_time": "2025-10-17T02:01:28.088655Z"
    }
   },
   "source": [
    "import Pyro4\n",
    "import os\n",
    "import sys\n",
    "import pandas as pd\n",
    "import numpy as np\n",
    "import yaml\n",
    "import matplotlib.pyplot as plt\n",
    "from pprint import pprint\n",
    "\n",
    "from workflow_services import allocate_inference_service,prepare_endpoints_for_inference\n",
    "from pyro_objects import ACL_Pyro_Objects\n",
    "\n",
    "Pyro4.config.SERIALIZERS_ACCEPTED.add('pickle')\n",
    "Pyro4.config.SERIALIZER = \"pickle\""
   ],
   "outputs": [],
   "execution_count": 9
  },
  {
   "metadata": {
    "ExecuteTime": {
     "end_time": "2025-10-17T01:58:16.541089Z",
     "start_time": "2025-10-17T01:58:16.523890Z"
    }
   },
   "cell_type": "code",
   "source": [
    "#\n",
    "CV_Voltage_step_E = {'Ei':0.0,'E1':0.8,'E2':0.2,'Ef':0.0}    # in volt(V)\n",
    "v_probe=np.linspace(CV_Voltage_step_E['E2'], CV_Voltage_step_E['E1'],10).reshape(-1, 1) # should be aligned with scan rate range\n",
    "\n",
    "# Pyro Client-server TCP connection\n",
    "# Client is Workflow Orchestrator, Server is instrument service.\n",
    "\n",
    "ipAddressServer='172.17.0.3'\n",
    "connectionPort='5001'\n",
    "with open('./endpoint03.yaml', 'r') as file:\n",
    "    g_endpoint = yaml.safe_load(file)"
   ],
   "id": "52655ce3bc127bcb",
   "outputs": [],
   "execution_count": 2
  },
  {
   "metadata": {},
   "cell_type": "markdown",
   "source": "### <span style='color:Blue ; background :yellow;'> Orchestrator Dependency modules </span>\n",
   "id": "3e2a5cb331932a73"
  },
  {
   "metadata": {
    "ExecuteTime": {
     "end_time": "2025-10-17T01:58:18.728883Z",
     "start_time": "2025-10-17T01:58:18.713825Z"
    }
   },
   "cell_type": "code",
   "source": [
    "\n",
    "def get_VI_measurement_parameters():\n",
    "    \"\"\"\n",
    "    This function determines if other requirements are asked by the user. For example if the user wants to noise the data by replicating the collected measurements, or to get the timestamp of the collected I-V measurements at the instrument side.\n",
    "    :return:\n",
    "    \"\"\"\n",
    "    try:\n",
    "        input_parameters = input(\"Enter IV measurement file, projected size and timestamp(default: blank) \").split(' ')\n",
    "        # example\n",
    "        # instrument_mService\\I-V_data\\Test_Ferrocene_disconnect_working_s01.txt 8000 True\n",
    "        # or\n",
    "        # instrument_mService\\I-V_data\\Test_Ferrocene_disconnect_working_s01.txt\n",
    "        if len(input_parameters) == 1:\n",
    "            fileName_w_path = input_parameters[0]\n",
    "            size = None\n",
    "            timestamp = False\n",
    "        elif len(input_parameters) == 2:\n",
    "            fileName_w_path = input_parameters[0]\n",
    "            size = int(input_parameters[1])\n",
    "            timestamp = False\n",
    "        elif len(input_parameters) == 3:\n",
    "            fileName_w_path = input_parameters[0]\n",
    "            size = int(input_parameters[1])\n",
    "            timestamp = {\"true\": True, \"false\": False}.get(input_parameters[2].strip().lower())\n",
    "        else:\n",
    "            raise ValueError(\"Invalid number of parameters and/or type\")\n",
    "    except ValueError as e:\n",
    "        # Handle the raised ValueError\n",
    "        print(f\"Caught an error: {e}\")\n",
    "\n",
    "    except Exception as e:\n",
    "        # Catch any other unexpected exceptions\n",
    "        print(f\"An unexpected error occurred: {e}\")\n",
    "    return fileName_w_path, size, timestamp\n",
    "\n",
    "###################################################################################\n",
    "###################################################################################\n",
    "def plot_IV_profiles(I,Ewe,y_pred,i_probe_t,v_probe):\n",
    "\n",
    "    def I_V_Plot(lst_plots,title=''):\n",
    "        for indx in lst_plots:\n",
    "            plt.scatter(indx[1],indx[0],label=indx[2])\n",
    "            plt.xlabel('V', fontsize = 16)\n",
    "            plt.ylabel('I', fontsize = 16)\n",
    "            plt.yticks(fontsize = 13)\n",
    "            plt.xticks(fontsize = 13)\n",
    "            plt.gca().yaxis.offsetText.set_fontsize(16)\n",
    "            plt.ticklabel_format(axis='y', style='sci',scilimits=(0,0))\n",
    "            plt.legend(loc='best')\n",
    "            plt.tight_layout()\n",
    "            plt.title(title)\n",
    "\n",
    "    plt.figure(figsize=(8,4))\n",
    "    #plt.suptitle(f' CV Measurement Analysis: {save_file_name}')\n",
    "    ax1 = plt.subplot(1, 2, 1)\n",
    "    I_V_Plot([(I,Ewe,'Measurments')],title='I-V Plot')\n",
    "\n",
    "    #####################################\n",
    "    ax2=plt.subplot(1, 2, 2)\n",
    "    I_V_Plot([(y_pred,Ewe,'Regression'),(i_probe_t,v_probe,'Regression Probing')],title='I-V Regression and Probing')\n",
    "    plt.show()\n"
   ],
   "id": "4469db66667d2bd2",
   "outputs": [],
   "execution_count": 3
  },
  {
   "metadata": {},
   "cell_type": "markdown",
   "source": "### <span style='color:Blue ; background :yellow;'> Orchestrator and Instrument services tasks over Pyro </span>\n",
   "id": "58c493a721f4a3d7"
  },
  {
   "metadata": {},
   "cell_type": "markdown",
   "source": "#### <span style='color:Blue'> Establish Client-Server Connection </span>",
   "id": "fff898976a6d87e1"
  },
  {
   "metadata": {
    "ExecuteTime": {
     "end_time": "2025-10-17T01:58:22.546685Z",
     "start_time": "2025-10-17T01:58:22.533710Z"
    }
   },
   "cell_type": "code",
   "source": "ACL_WF=ACL_Pyro_Objects(ipAddressServer,connectionPort)",
   "id": "f1d3c3c03fea8902",
   "outputs": [],
   "execution_count": 5
  },
  {
   "metadata": {},
   "cell_type": "markdown",
   "source": "#### <span style='color:Blue'> List available I-V dataset at the instrument side  </span>",
   "id": "73b1ae5fcdd00dbc"
  },
  {
   "metadata": {
    "ExecuteTime": {
     "end_time": "2025-10-17T01:58:25.824682Z",
     "start_time": "2025-10-17T01:58:25.810753Z"
    }
   },
   "cell_type": "code",
   "source": "ACL_WF.get_IV_dataset()",
   "id": "b072fbf8e4031f5e",
   "outputs": [
    {
     "name": "stdout",
     "output_type": "stream",
     "text": [
      "instrument_mService\\I-V_data\\Test_Ferrocene_disconnect_counter_s01.txt: size: 39848 bytes\n",
      "instrument_mService\\I-V_data\\Test_Ferrocene_disconnect_refrence_s01.txt: size: 36915 bytes\n",
      "instrument_mService\\I-V_data\\Test_Ferrocene_disconnect_working_s01.txt: size: 40071 bytes\n",
      "instrument_mService\\I-V_data\\Test_Ferrocene_normal_100KB.txt: size: 137716 bytes\n",
      "instrument_mService\\I-V_data\\Test_Ferrocene_normal_1KB.txt: size: 1296 bytes\n",
      "instrument_mService\\I-V_data\\Test_Ferrocene_normal_1MB.txt: size: 984761 bytes\n",
      "instrument_mService\\I-V_data\\Test_Ferrocene_normal_s01.txt: size: 38281 bytes\n"
     ]
    }
   ],
   "execution_count": 6
  },
  {
   "metadata": {},
   "cell_type": "markdown",
   "source": "#### <span style='color:Blue'> Choose which I-V profile want to test its normality (the size can be noised)  </span>\n",
   "id": "19acdf1433e7b65c"
  },
  {
   "metadata": {},
   "cell_type": "code",
   "outputs": [],
   "execution_count": null,
   "source": "fileName_w_path, size, timestamp = get_VI_measurement_parameters()",
   "id": "778e208e9dead84e"
  },
  {
   "metadata": {},
   "cell_type": "markdown",
   "source": " #### <span style='color:Blue'> Transfer profile measurements from the Instrument side to the Orchestrator  </span>",
   "id": "32a0972ef0a9f4bd"
  },
  {
   "metadata": {
    "ExecuteTime": {
     "end_time": "2025-10-17T02:02:22.271Z",
     "start_time": "2025-10-17T02:02:10.614941Z"
    }
   },
   "cell_type": "code",
   "source": [
    "IV_df = ACL_WF.get_IV_data(fileName_w_path, size, timestamp)\n",
    "pprint(IV_df)\n",
    "fileName_w_path = os.path.basename(fileName_w_path)[:-4]\n",
    "I = np.array(IV_df.I).reshape(-1, 1)\n",
    "Ewe = np.array(IV_df.Ewe).reshape(-1, 1)\n"
   ],
   "id": "9dbb80d8b6182a8f",
   "outputs": [
    {
     "ename": "KeyboardInterrupt",
     "evalue": "Interrupted by user",
     "output_type": "error",
     "traceback": [
      "\u001B[1;31m---------------------------------------------------------------------------\u001B[0m",
      "\u001B[1;31mKeyboardInterrupt\u001B[0m                         Traceback (most recent call last)",
      "Cell \u001B[1;32mIn[11], line 1\u001B[0m\n\u001B[1;32m----> 1\u001B[0m fileName_w_path, size, timestamp \u001B[38;5;241m=\u001B[39m \u001B[43mget_VI_measurement_parameters\u001B[49m\u001B[43m(\u001B[49m\u001B[43m)\u001B[49m\n\u001B[0;32m      2\u001B[0m IV_df \u001B[38;5;241m=\u001B[39m ACL_WF\u001B[38;5;241m.\u001B[39mget_IV_data(fileName_w_path, size, timestamp)\n\u001B[0;32m      3\u001B[0m pprint(IV_df)\n",
      "Cell \u001B[1;32mIn[4], line 7\u001B[0m, in \u001B[0;36mget_VI_measurement_parameters\u001B[1;34m()\u001B[0m\n\u001B[0;32m      2\u001B[0m \u001B[38;5;250m\u001B[39m\u001B[38;5;124;03m\"\"\"\u001B[39;00m\n\u001B[0;32m      3\u001B[0m \u001B[38;5;124;03mThis function determines if other requirements are asked by the user. For example if the user wants to noise the data by replicating the collected measurements, or to get the timestamp of the collected I-V measurements at the instrument side.\u001B[39;00m\n\u001B[0;32m      4\u001B[0m \u001B[38;5;124;03m:return:\u001B[39;00m\n\u001B[0;32m      5\u001B[0m \u001B[38;5;124;03m\"\"\"\u001B[39;00m\n\u001B[0;32m      6\u001B[0m \u001B[38;5;28;01mtry\u001B[39;00m:\n\u001B[1;32m----> 7\u001B[0m     input_parameters \u001B[38;5;241m=\u001B[39m \u001B[38;5;28;43minput\u001B[39;49m\u001B[43m(\u001B[49m\u001B[38;5;124;43m\"\u001B[39;49m\u001B[38;5;124;43mEnter IV measurement file, projected size and timestamp(default: blank) \u001B[39;49m\u001B[38;5;124;43m\"\u001B[39;49m\u001B[43m)\u001B[49m\u001B[38;5;241m.\u001B[39msplit(\u001B[38;5;124m'\u001B[39m\u001B[38;5;124m \u001B[39m\u001B[38;5;124m'\u001B[39m)\n\u001B[0;32m      8\u001B[0m     \u001B[38;5;66;03m# example\u001B[39;00m\n\u001B[0;32m      9\u001B[0m     \u001B[38;5;66;03m# instrument_mService\\I-V_data\\Test_Ferrocene_disconnect_working_s01.txt 8000 True\u001B[39;00m\n\u001B[0;32m     10\u001B[0m     \u001B[38;5;66;03m# or\u001B[39;00m\n\u001B[0;32m     11\u001B[0m     \u001B[38;5;66;03m# instrument_mService\\I-V_data\\Test_Ferrocene_disconnect_working_s01.txt\u001B[39;00m\n\u001B[0;32m     12\u001B[0m     \u001B[38;5;28;01mif\u001B[39;00m \u001B[38;5;28mlen\u001B[39m(input_parameters) \u001B[38;5;241m==\u001B[39m \u001B[38;5;241m1\u001B[39m:\n",
      "File \u001B[1;32m~\\Projects\\EconetI\\acl-mini-app\\.venv\\lib\\site-packages\\ipykernel\\kernelbase.py:1473\u001B[0m, in \u001B[0;36mKernel.raw_input\u001B[1;34m(self, prompt)\u001B[0m\n\u001B[0;32m   1471\u001B[0m     msg \u001B[38;5;241m=\u001B[39m \u001B[38;5;124m\"\u001B[39m\u001B[38;5;124mraw_input was called, but this frontend does not support input requests.\u001B[39m\u001B[38;5;124m\"\u001B[39m\n\u001B[0;32m   1472\u001B[0m     \u001B[38;5;28;01mraise\u001B[39;00m StdinNotImplementedError(msg)\n\u001B[1;32m-> 1473\u001B[0m \u001B[38;5;28;01mreturn\u001B[39;00m \u001B[38;5;28;43mself\u001B[39;49m\u001B[38;5;241;43m.\u001B[39;49m\u001B[43m_input_request\u001B[49m\u001B[43m(\u001B[49m\n\u001B[0;32m   1474\u001B[0m \u001B[43m    \u001B[49m\u001B[38;5;28;43mstr\u001B[39;49m\u001B[43m(\u001B[49m\u001B[43mprompt\u001B[49m\u001B[43m)\u001B[49m\u001B[43m,\u001B[49m\n\u001B[0;32m   1475\u001B[0m \u001B[43m    \u001B[49m\u001B[38;5;28;43mself\u001B[39;49m\u001B[38;5;241;43m.\u001B[39;49m\u001B[43m_shell_parent_ident\u001B[49m\u001B[38;5;241;43m.\u001B[39;49m\u001B[43mget\u001B[49m\u001B[43m(\u001B[49m\u001B[43m)\u001B[49m\u001B[43m,\u001B[49m\n\u001B[0;32m   1476\u001B[0m \u001B[43m    \u001B[49m\u001B[38;5;28;43mself\u001B[39;49m\u001B[38;5;241;43m.\u001B[39;49m\u001B[43mget_parent\u001B[49m\u001B[43m(\u001B[49m\u001B[38;5;124;43m\"\u001B[39;49m\u001B[38;5;124;43mshell\u001B[39;49m\u001B[38;5;124;43m\"\u001B[39;49m\u001B[43m)\u001B[49m\u001B[43m,\u001B[49m\n\u001B[0;32m   1477\u001B[0m \u001B[43m    \u001B[49m\u001B[43mpassword\u001B[49m\u001B[38;5;241;43m=\u001B[39;49m\u001B[38;5;28;43;01mFalse\u001B[39;49;00m\u001B[43m,\u001B[49m\n\u001B[0;32m   1478\u001B[0m \u001B[43m\u001B[49m\u001B[43m)\u001B[49m\n",
      "File \u001B[1;32m~\\Projects\\EconetI\\acl-mini-app\\.venv\\lib\\site-packages\\ipykernel\\kernelbase.py:1518\u001B[0m, in \u001B[0;36mKernel._input_request\u001B[1;34m(self, prompt, ident, parent, password)\u001B[0m\n\u001B[0;32m   1515\u001B[0m \u001B[38;5;28;01mexcept\u001B[39;00m \u001B[38;5;167;01mKeyboardInterrupt\u001B[39;00m:\n\u001B[0;32m   1516\u001B[0m     \u001B[38;5;66;03m# re-raise KeyboardInterrupt, to truncate traceback\u001B[39;00m\n\u001B[0;32m   1517\u001B[0m     msg \u001B[38;5;241m=\u001B[39m \u001B[38;5;124m\"\u001B[39m\u001B[38;5;124mInterrupted by user\u001B[39m\u001B[38;5;124m\"\u001B[39m\n\u001B[1;32m-> 1518\u001B[0m     \u001B[38;5;28;01mraise\u001B[39;00m \u001B[38;5;167;01mKeyboardInterrupt\u001B[39;00m(msg) \u001B[38;5;28;01mfrom\u001B[39;00m\u001B[38;5;250m \u001B[39m\u001B[38;5;28;01mNone\u001B[39;00m\n\u001B[0;32m   1519\u001B[0m \u001B[38;5;28;01mexcept\u001B[39;00m \u001B[38;5;167;01mException\u001B[39;00m:\n\u001B[0;32m   1520\u001B[0m     \u001B[38;5;28mself\u001B[39m\u001B[38;5;241m.\u001B[39mlog\u001B[38;5;241m.\u001B[39mwarning(\u001B[38;5;124m\"\u001B[39m\u001B[38;5;124mInvalid Message:\u001B[39m\u001B[38;5;124m\"\u001B[39m, exc_info\u001B[38;5;241m=\u001B[39m\u001B[38;5;28;01mTrue\u001B[39;00m)\n",
      "\u001B[1;31mKeyboardInterrupt\u001B[0m: Interrupted by user"
     ]
    }
   ],
   "execution_count": 11
  },
  {
   "metadata": {},
   "cell_type": "markdown",
   "source": "### <span style='color:Blue ; background :yellow;'> Orchestrator and Compute services over Globus </span>\n",
   "id": "59ded5d993c99e69"
  },
  {
   "metadata": {},
   "cell_type": "markdown",
   "source": "#### <span style='color:Blue'> Test the endpoint if it is available, then send I, and V (Ewe) of the collected I-V profile to endpoint for the inference </span>",
   "id": "b3d690581ff0211"
  },
  {
   "metadata": {},
   "cell_type": "code",
   "outputs": [],
   "execution_count": null,
   "source": [
    "prepare_endpoints_for_inference(g_endpoint)\n",
    "\n",
    "print(\"\\n##################    Inference Allocation for Testing I-V profile      #################################\")\n",
    "i_probe_t, y_pred, profile_class, elapsed_time = allocate_inference_service(fileName_w_path, I, Ewe, g_endpoint)\n",
    "print(f\" IV Profile {fileName_w_path} is \\\n",
    "         {('Normal') if profile_class else ('Invalid')}\")\n",
    "\n",
    "plot_IV_profiles(I,Ewe,y_pred,i_probe_t,v_probe)"
   ],
   "id": "a2c641645eb643b7"
  },
  {
   "metadata": {},
   "cell_type": "markdown",
   "source": "### <span style='color:Blue ; background :yellow;'> Terminate the connection with Instrument service </span>",
   "id": "1467090ec959e1a5"
  },
  {
   "metadata": {},
   "cell_type": "code",
   "outputs": [],
   "execution_count": null,
   "source": "ACL_WF.call_Shutdown()",
   "id": "d1349bda6da8d7e3"
  }
 ],
 "metadata": {
  "kernelspec": {
   "display_name": "Python 3",
   "language": "python",
   "name": "python3"
  },
  "language_info": {
   "codemirror_mode": {
    "name": "ipython",
    "version": 2
   },
   "file_extension": ".py",
   "mimetype": "text/x-python",
   "name": "python",
   "nbconvert_exporter": "python",
   "pygments_lexer": "ipython2",
   "version": "2.7.6"
  }
 },
 "nbformat": 4,
 "nbformat_minor": 5
}
